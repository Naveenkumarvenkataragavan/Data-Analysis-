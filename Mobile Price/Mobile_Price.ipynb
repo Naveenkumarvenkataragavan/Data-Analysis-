{
 "cells": [
  {
   "cell_type": "markdown",
   "id": "7098759e",
   "metadata": {
    "papermill": {
     "duration": 0.012384,
     "end_time": "2023-08-29T09:05:46.231261",
     "exception": false,
     "start_time": "2023-08-29T09:05:46.218877",
     "status": "completed"
    },
    "tags": []
   },
   "source": [
    "###### Import the lib"
   ]
  },
  {
   "cell_type": "code",
   "execution_count": 1,
   "id": "d437044c",
   "metadata": {
    "execution": {
     "iopub.execute_input": "2023-08-29T09:05:46.257901Z",
     "iopub.status.busy": "2023-08-29T09:05:46.257215Z",
     "iopub.status.idle": "2023-08-29T09:05:48.309525Z",
     "shell.execute_reply": "2023-08-29T09:05:48.308269Z"
    },
    "papermill": {
     "duration": 2.069198,
     "end_time": "2023-08-29T09:05:48.312337",
     "exception": false,
     "start_time": "2023-08-29T09:05:46.243139",
     "status": "completed"
    },
    "tags": []
   },
   "outputs": [
    {
     "name": "stderr",
     "output_type": "stream",
     "text": [
      "/opt/conda/lib/python3.10/site-packages/scipy/__init__.py:146: UserWarning: A NumPy version >=1.16.5 and <1.23.0 is required for this version of SciPy (detected version 1.23.5\n",
      "  warnings.warn(f\"A NumPy version >={np_minversion} and <{np_maxversion}\"\n"
     ]
    }
   ],
   "source": [
    "import pandas as pd\n",
    "import numpy as np\n",
    "import seaborn as sns \n",
    "import matplotlib.pyplot as plt\n",
    "from sklearn import preprocessing\n",
    "label_encoder = preprocessing.LabelEncoder()\n",
    "from sklearn.preprocessing import StandardScaler\n",
    "from sklearn.model_selection import train_test_split\n",
    "from sklearn.linear_model import LinearRegression\n",
    "from sklearn import metrics"
   ]
  },
  {
   "cell_type": "markdown",
   "id": "c3b12c24",
   "metadata": {
    "papermill": {
     "duration": 0.011468,
     "end_time": "2023-08-29T09:05:48.335931",
     "exception": false,
     "start_time": "2023-08-29T09:05:48.324463",
     "status": "completed"
    },
    "tags": []
   },
   "source": [
    "###### Load the dataset"
   ]
  },
  {
   "cell_type": "code",
   "execution_count": 2,
   "id": "8ebab1de",
   "metadata": {
    "execution": {
     "iopub.execute_input": "2023-08-29T09:05:48.362431Z",
     "iopub.status.busy": "2023-08-29T09:05:48.361993Z",
     "iopub.status.idle": "2023-08-29T09:05:48.401731Z",
     "shell.execute_reply": "2023-08-29T09:05:48.400505Z"
    },
    "papermill": {
     "duration": 0.056458,
     "end_time": "2023-08-29T09:05:48.404838",
     "exception": false,
     "start_time": "2023-08-29T09:05:48.348380",
     "status": "completed"
    },
    "tags": []
   },
   "outputs": [],
   "source": [
    "mobile_data=pd.read_csv(\"/kaggle/input/mobile-prices-2023/mobile_prices_2023.csv\")"
   ]
  },
  {
   "cell_type": "markdown",
   "id": "96128030",
   "metadata": {
    "papermill": {
     "duration": 0.011718,
     "end_time": "2023-08-29T09:05:48.430960",
     "exception": false,
     "start_time": "2023-08-29T09:05:48.419242",
     "status": "completed"
    },
    "tags": []
   },
   "source": [
    "###### data preprocessing"
   ]
  },
  {
   "cell_type": "code",
   "execution_count": 3,
   "id": "6b254fd7",
   "metadata": {
    "execution": {
     "iopub.execute_input": "2023-08-29T09:05:48.457572Z",
     "iopub.status.busy": "2023-08-29T09:05:48.457118Z",
     "iopub.status.idle": "2023-08-29T09:05:48.465702Z",
     "shell.execute_reply": "2023-08-29T09:05:48.464359Z"
    },
    "papermill": {
     "duration": 0.025891,
     "end_time": "2023-08-29T09:05:48.468751",
     "exception": false,
     "start_time": "2023-08-29T09:05:48.442860",
     "status": "completed"
    },
    "tags": []
   },
   "outputs": [
    {
     "data": {
      "text/plain": [
       "(1836, 11)"
      ]
     },
     "execution_count": 3,
     "metadata": {},
     "output_type": "execute_result"
    }
   ],
   "source": [
    "mobile_data.shape"
   ]
  },
  {
   "cell_type": "code",
   "execution_count": 4,
   "id": "8ee0c827",
   "metadata": {
    "execution": {
     "iopub.execute_input": "2023-08-29T09:05:48.497181Z",
     "iopub.status.busy": "2023-08-29T09:05:48.496702Z",
     "iopub.status.idle": "2023-08-29T09:05:48.526433Z",
     "shell.execute_reply": "2023-08-29T09:05:48.525162Z"
    },
    "papermill": {
     "duration": 0.048703,
     "end_time": "2023-08-29T09:05:48.530119",
     "exception": false,
     "start_time": "2023-08-29T09:05:48.481416",
     "status": "completed"
    },
    "tags": []
   },
   "outputs": [
    {
     "data": {
      "text/html": [
       "<div>\n",
       "<style scoped>\n",
       "    .dataframe tbody tr th:only-of-type {\n",
       "        vertical-align: middle;\n",
       "    }\n",
       "\n",
       "    .dataframe tbody tr th {\n",
       "        vertical-align: top;\n",
       "    }\n",
       "\n",
       "    .dataframe thead th {\n",
       "        text-align: right;\n",
       "    }\n",
       "</style>\n",
       "<table border=\"1\" class=\"dataframe\">\n",
       "  <thead>\n",
       "    <tr style=\"text-align: right;\">\n",
       "      <th></th>\n",
       "      <th>Phone Name</th>\n",
       "      <th>Rating ?/5</th>\n",
       "      <th>Number of Ratings</th>\n",
       "      <th>RAM</th>\n",
       "      <th>ROM/Storage</th>\n",
       "      <th>Back/Rare Camera</th>\n",
       "      <th>Front Camera</th>\n",
       "      <th>Battery</th>\n",
       "      <th>Processor</th>\n",
       "      <th>Price in INR</th>\n",
       "      <th>Date of Scraping</th>\n",
       "    </tr>\n",
       "  </thead>\n",
       "  <tbody>\n",
       "    <tr>\n",
       "      <th>0</th>\n",
       "      <td>POCO C50 (Royal Blue, 32 GB)</td>\n",
       "      <td>4.2</td>\n",
       "      <td>33,561</td>\n",
       "      <td>2 GB RAM</td>\n",
       "      <td>32 GB ROM</td>\n",
       "      <td>8MP Dual Camera</td>\n",
       "      <td>5MP Front Camera</td>\n",
       "      <td>5000 mAh</td>\n",
       "      <td>Mediatek Helio A22 Processor, Upto 2.0 GHz Pro...</td>\n",
       "      <td>₹5,649</td>\n",
       "      <td>2023-06-17</td>\n",
       "    </tr>\n",
       "    <tr>\n",
       "      <th>1</th>\n",
       "      <td>POCO M4 5G (Cool Blue, 64 GB)</td>\n",
       "      <td>4.2</td>\n",
       "      <td>77,128</td>\n",
       "      <td>4 GB RAM</td>\n",
       "      <td>64 GB ROM</td>\n",
       "      <td>50MP + 2MP</td>\n",
       "      <td>8MP Front Camera</td>\n",
       "      <td>5000 mAh</td>\n",
       "      <td>Mediatek Dimensity 700 Processor</td>\n",
       "      <td>₹11,999</td>\n",
       "      <td>2023-06-17</td>\n",
       "    </tr>\n",
       "    <tr>\n",
       "      <th>2</th>\n",
       "      <td>POCO C51 (Royal Blue, 64 GB)</td>\n",
       "      <td>4.3</td>\n",
       "      <td>15,175</td>\n",
       "      <td>4 GB RAM</td>\n",
       "      <td>64 GB ROM</td>\n",
       "      <td>8MP Dual Rear Camera</td>\n",
       "      <td>5MP Front Camera</td>\n",
       "      <td>5000 mAh</td>\n",
       "      <td>Helio G36 Processor</td>\n",
       "      <td>₹6,999</td>\n",
       "      <td>2023-06-17</td>\n",
       "    </tr>\n",
       "    <tr>\n",
       "      <th>3</th>\n",
       "      <td>POCO C55 (Cool Blue, 64 GB)</td>\n",
       "      <td>4.2</td>\n",
       "      <td>22,621</td>\n",
       "      <td>4 GB RAM</td>\n",
       "      <td>64 GB ROM</td>\n",
       "      <td>50MP Dual Rear Camera</td>\n",
       "      <td>5MP Front Camera</td>\n",
       "      <td>5000 mAh</td>\n",
       "      <td>Mediatek Helio G85 Processor</td>\n",
       "      <td>₹7,749</td>\n",
       "      <td>2023-06-17</td>\n",
       "    </tr>\n",
       "    <tr>\n",
       "      <th>4</th>\n",
       "      <td>POCO C51 (Power Black, 64 GB)</td>\n",
       "      <td>4.3</td>\n",
       "      <td>15,175</td>\n",
       "      <td>4 GB RAM</td>\n",
       "      <td>64 GB ROM</td>\n",
       "      <td>8MP Dual Rear Camera</td>\n",
       "      <td>5MP Front Camera</td>\n",
       "      <td>5000 mAh</td>\n",
       "      <td>Helio G36 Processor</td>\n",
       "      <td>₹6,999</td>\n",
       "      <td>2023-06-17</td>\n",
       "    </tr>\n",
       "  </tbody>\n",
       "</table>\n",
       "</div>"
      ],
      "text/plain": [
       "                      Phone Name  Rating ?/5 Number of Ratings       RAM  \\\n",
       "0   POCO C50 (Royal Blue, 32 GB)         4.2            33,561  2 GB RAM   \n",
       "1  POCO M4 5G (Cool Blue, 64 GB)         4.2            77,128  4 GB RAM   \n",
       "2   POCO C51 (Royal Blue, 64 GB)         4.3            15,175  4 GB RAM   \n",
       "3    POCO C55 (Cool Blue, 64 GB)         4.2            22,621  4 GB RAM   \n",
       "4  POCO C51 (Power Black, 64 GB)         4.3            15,175  4 GB RAM   \n",
       "\n",
       "  ROM/Storage       Back/Rare Camera      Front Camera   Battery  \\\n",
       "0   32 GB ROM        8MP Dual Camera  5MP Front Camera  5000 mAh   \n",
       "1   64 GB ROM             50MP + 2MP  8MP Front Camera  5000 mAh   \n",
       "2   64 GB ROM   8MP Dual Rear Camera  5MP Front Camera  5000 mAh   \n",
       "3   64 GB ROM  50MP Dual Rear Camera  5MP Front Camera  5000 mAh   \n",
       "4   64 GB ROM   8MP Dual Rear Camera  5MP Front Camera  5000 mAh   \n",
       "\n",
       "                                           Processor Price in INR  \\\n",
       "0  Mediatek Helio A22 Processor, Upto 2.0 GHz Pro...       ₹5,649   \n",
       "1                   Mediatek Dimensity 700 Processor      ₹11,999   \n",
       "2                                Helio G36 Processor       ₹6,999   \n",
       "3                       Mediatek Helio G85 Processor       ₹7,749   \n",
       "4                                Helio G36 Processor       ₹6,999   \n",
       "\n",
       "  Date of Scraping  \n",
       "0       2023-06-17  \n",
       "1       2023-06-17  \n",
       "2       2023-06-17  \n",
       "3       2023-06-17  \n",
       "4       2023-06-17  "
      ]
     },
     "execution_count": 4,
     "metadata": {},
     "output_type": "execute_result"
    }
   ],
   "source": [
    "mobile_data.head()"
   ]
  },
  {
   "cell_type": "code",
   "execution_count": 5,
   "id": "f4df5261",
   "metadata": {
    "execution": {
     "iopub.execute_input": "2023-08-29T09:05:48.560083Z",
     "iopub.status.busy": "2023-08-29T09:05:48.559575Z",
     "iopub.status.idle": "2023-08-29T09:05:48.569433Z",
     "shell.execute_reply": "2023-08-29T09:05:48.567901Z"
    },
    "papermill": {
     "duration": 0.029504,
     "end_time": "2023-08-29T09:05:48.573418",
     "exception": false,
     "start_time": "2023-08-29T09:05:48.543914",
     "status": "completed"
    },
    "tags": []
   },
   "outputs": [],
   "source": [
    "mobile_data['Price in INR']=mobile_data['Price in INR'].str.replace('₹','')\n",
    "\n",
    "#mobile_data['Price in INR'].astype(int)"
   ]
  },
  {
   "cell_type": "code",
   "execution_count": 6,
   "id": "d192e8ed",
   "metadata": {
    "execution": {
     "iopub.execute_input": "2023-08-29T09:05:48.601888Z",
     "iopub.status.busy": "2023-08-29T09:05:48.601414Z",
     "iopub.status.idle": "2023-08-29T09:05:48.613300Z",
     "shell.execute_reply": "2023-08-29T09:05:48.611999Z"
    },
    "papermill": {
     "duration": 0.028891,
     "end_time": "2023-08-29T09:05:48.616101",
     "exception": false,
     "start_time": "2023-08-29T09:05:48.587210",
     "status": "completed"
    },
    "tags": []
   },
   "outputs": [],
   "source": [
    "# price in inr convert obj to int \n",
    "mobile_data['Price in INR']=mobile_data['Price in INR'].str.replace('₹','').str.replace(',','')\n",
    "mobile_data['Price in INR']=mobile_data['Price in INR'].astype(int)"
   ]
  },
  {
   "cell_type": "code",
   "execution_count": 7,
   "id": "f9807120",
   "metadata": {
    "execution": {
     "iopub.execute_input": "2023-08-29T09:05:48.647082Z",
     "iopub.status.busy": "2023-08-29T09:05:48.646591Z",
     "iopub.status.idle": "2023-08-29T09:05:48.655788Z",
     "shell.execute_reply": "2023-08-29T09:05:48.654462Z"
    },
    "papermill": {
     "duration": 0.027755,
     "end_time": "2023-08-29T09:05:48.658294",
     "exception": false,
     "start_time": "2023-08-29T09:05:48.630539",
     "status": "completed"
    },
    "tags": []
   },
   "outputs": [],
   "source": [
    "mobile_data['Number of Ratings']=mobile_data['Number of Ratings'].str.replace(',','')\n",
    "mobile_data['Number of Ratings']=mobile_data['Number of Ratings'].astype(int)"
   ]
  },
  {
   "cell_type": "code",
   "execution_count": 8,
   "id": "7ee5b16a",
   "metadata": {
    "execution": {
     "iopub.execute_input": "2023-08-29T09:05:48.688653Z",
     "iopub.status.busy": "2023-08-29T09:05:48.688247Z",
     "iopub.status.idle": "2023-08-29T09:05:48.698967Z",
     "shell.execute_reply": "2023-08-29T09:05:48.697420Z"
    },
    "papermill": {
     "duration": 0.027986,
     "end_time": "2023-08-29T09:05:48.701341",
     "exception": false,
     "start_time": "2023-08-29T09:05:48.673355",
     "status": "completed"
    },
    "tags": []
   },
   "outputs": [
    {
     "data": {
      "text/plain": [
       "Phone Name            object\n",
       "Rating ?/5           float64\n",
       "Number of Ratings      int64\n",
       "RAM                   object\n",
       "ROM/Storage           object\n",
       "Back/Rare Camera      object\n",
       "Front Camera          object\n",
       "Battery               object\n",
       "Processor             object\n",
       "Price in INR           int64\n",
       "Date of Scraping      object\n",
       "dtype: object"
      ]
     },
     "execution_count": 8,
     "metadata": {},
     "output_type": "execute_result"
    }
   ],
   "source": [
    "mobile_data.dtypes"
   ]
  },
  {
   "cell_type": "code",
   "execution_count": 9,
   "id": "6f681eb7",
   "metadata": {
    "execution": {
     "iopub.execute_input": "2023-08-29T09:05:48.730952Z",
     "iopub.status.busy": "2023-08-29T09:05:48.730352Z",
     "iopub.status.idle": "2023-08-29T09:05:48.751635Z",
     "shell.execute_reply": "2023-08-29T09:05:48.750188Z"
    },
    "papermill": {
     "duration": 0.039516,
     "end_time": "2023-08-29T09:05:48.754677",
     "exception": false,
     "start_time": "2023-08-29T09:05:48.715161",
     "status": "completed"
    },
    "tags": []
   },
   "outputs": [
    {
     "data": {
      "text/plain": [
       "Phone Name             0\n",
       "Rating ?/5             0\n",
       "Number of Ratings      0\n",
       "RAM                    0\n",
       "ROM/Storage          174\n",
       "Back/Rare Camera       9\n",
       "Front Camera         401\n",
       "Battery               10\n",
       "Processor             55\n",
       "Price in INR           0\n",
       "Date of Scraping       0\n",
       "dtype: int64"
      ]
     },
     "execution_count": 9,
     "metadata": {},
     "output_type": "execute_result"
    }
   ],
   "source": [
    "mobile_data.isnull().sum()"
   ]
  },
  {
   "cell_type": "code",
   "execution_count": 10,
   "id": "e1f453ce",
   "metadata": {
    "execution": {
     "iopub.execute_input": "2023-08-29T09:05:48.785414Z",
     "iopub.status.busy": "2023-08-29T09:05:48.784963Z",
     "iopub.status.idle": "2023-08-29T09:05:48.803623Z",
     "shell.execute_reply": "2023-08-29T09:05:48.802271Z"
    },
    "papermill": {
     "duration": 0.036851,
     "end_time": "2023-08-29T09:05:48.806567",
     "exception": false,
     "start_time": "2023-08-29T09:05:48.769716",
     "status": "completed"
    },
    "tags": []
   },
   "outputs": [],
   "source": [
    "mobile_data=mobile_data.dropna()"
   ]
  },
  {
   "cell_type": "code",
   "execution_count": 11,
   "id": "68e2a908",
   "metadata": {
    "execution": {
     "iopub.execute_input": "2023-08-29T09:05:48.841530Z",
     "iopub.status.busy": "2023-08-29T09:05:48.840827Z",
     "iopub.status.idle": "2023-08-29T09:05:48.857527Z",
     "shell.execute_reply": "2023-08-29T09:05:48.855430Z"
    },
    "papermill": {
     "duration": 0.039169,
     "end_time": "2023-08-29T09:05:48.860892",
     "exception": false,
     "start_time": "2023-08-29T09:05:48.821723",
     "status": "completed"
    },
    "tags": []
   },
   "outputs": [
    {
     "data": {
      "text/plain": [
       "Phone Name           0\n",
       "Rating ?/5           0\n",
       "Number of Ratings    0\n",
       "RAM                  0\n",
       "ROM/Storage          0\n",
       "Back/Rare Camera     0\n",
       "Front Camera         0\n",
       "Battery              0\n",
       "Processor            0\n",
       "Price in INR         0\n",
       "Date of Scraping     0\n",
       "dtype: int64"
      ]
     },
     "execution_count": 11,
     "metadata": {},
     "output_type": "execute_result"
    }
   ],
   "source": [
    "mobile_data.isnull().sum()"
   ]
  },
  {
   "cell_type": "code",
   "execution_count": 12,
   "id": "9f4fdc0e",
   "metadata": {
    "execution": {
     "iopub.execute_input": "2023-08-29T09:05:48.889925Z",
     "iopub.status.busy": "2023-08-29T09:05:48.889461Z",
     "iopub.status.idle": "2023-08-29T09:05:48.909269Z",
     "shell.execute_reply": "2023-08-29T09:05:48.907383Z"
    },
    "papermill": {
     "duration": 0.037977,
     "end_time": "2023-08-29T09:05:48.912653",
     "exception": false,
     "start_time": "2023-08-29T09:05:48.874676",
     "status": "completed"
    },
    "tags": []
   },
   "outputs": [],
   "source": [
    "mobile_data.drop_duplicates(inplace=True)"
   ]
  },
  {
   "cell_type": "code",
   "execution_count": 13,
   "id": "9ab60faa",
   "metadata": {
    "execution": {
     "iopub.execute_input": "2023-08-29T09:05:48.941507Z",
     "iopub.status.busy": "2023-08-29T09:05:48.941101Z",
     "iopub.status.idle": "2023-08-29T09:05:48.955740Z",
     "shell.execute_reply": "2023-08-29T09:05:48.954435Z"
    },
    "papermill": {
     "duration": 0.032988,
     "end_time": "2023-08-29T09:05:48.959585",
     "exception": false,
     "start_time": "2023-08-29T09:05:48.926597",
     "status": "completed"
    },
    "tags": []
   },
   "outputs": [
    {
     "data": {
      "text/plain": [
       "0"
      ]
     },
     "execution_count": 13,
     "metadata": {},
     "output_type": "execute_result"
    }
   ],
   "source": [
    "mobile_data.duplicated().sum()"
   ]
  },
  {
   "cell_type": "code",
   "execution_count": 14,
   "id": "5a1db4ba",
   "metadata": {
    "execution": {
     "iopub.execute_input": "2023-08-29T09:05:48.988524Z",
     "iopub.status.busy": "2023-08-29T09:05:48.988079Z",
     "iopub.status.idle": "2023-08-29T09:05:48.996440Z",
     "shell.execute_reply": "2023-08-29T09:05:48.995078Z"
    },
    "papermill": {
     "duration": 0.026337,
     "end_time": "2023-08-29T09:05:48.999337",
     "exception": false,
     "start_time": "2023-08-29T09:05:48.973000",
     "status": "completed"
    },
    "tags": []
   },
   "outputs": [
    {
     "data": {
      "text/plain": [
       "(1252, 11)"
      ]
     },
     "execution_count": 14,
     "metadata": {},
     "output_type": "execute_result"
    }
   ],
   "source": [
    "mobile_data.shape"
   ]
  },
  {
   "cell_type": "code",
   "execution_count": 15,
   "id": "ad043b65",
   "metadata": {
    "execution": {
     "iopub.execute_input": "2023-08-29T09:05:49.035293Z",
     "iopub.status.busy": "2023-08-29T09:05:49.034826Z",
     "iopub.status.idle": "2023-08-29T09:05:49.062097Z",
     "shell.execute_reply": "2023-08-29T09:05:49.060124Z"
    },
    "papermill": {
     "duration": 0.047021,
     "end_time": "2023-08-29T09:05:49.065162",
     "exception": false,
     "start_time": "2023-08-29T09:05:49.018141",
     "status": "completed"
    },
    "tags": []
   },
   "outputs": [
    {
     "name": "stdout",
     "output_type": "stream",
     "text": [
      "<class 'pandas.core.frame.DataFrame'>\n",
      "Int64Index: 1252 entries, 0 to 1835\n",
      "Data columns (total 11 columns):\n",
      " #   Column             Non-Null Count  Dtype  \n",
      "---  ------             --------------  -----  \n",
      " 0   Phone Name         1252 non-null   object \n",
      " 1   Rating ?/5         1252 non-null   float64\n",
      " 2   Number of Ratings  1252 non-null   int64  \n",
      " 3   RAM                1252 non-null   object \n",
      " 4   ROM/Storage        1252 non-null   object \n",
      " 5   Back/Rare Camera   1252 non-null   object \n",
      " 6   Front Camera       1252 non-null   object \n",
      " 7   Battery            1252 non-null   object \n",
      " 8   Processor          1252 non-null   object \n",
      " 9   Price in INR       1252 non-null   int64  \n",
      " 10  Date of Scraping   1252 non-null   object \n",
      "dtypes: float64(1), int64(2), object(8)\n",
      "memory usage: 117.4+ KB\n"
     ]
    }
   ],
   "source": [
    "mobile_data.info()"
   ]
  },
  {
   "cell_type": "code",
   "execution_count": 16,
   "id": "d6b56c91",
   "metadata": {
    "execution": {
     "iopub.execute_input": "2023-08-29T09:05:49.097834Z",
     "iopub.status.busy": "2023-08-29T09:05:49.097416Z",
     "iopub.status.idle": "2023-08-29T09:05:49.112714Z",
     "shell.execute_reply": "2023-08-29T09:05:49.111394Z"
    },
    "papermill": {
     "duration": 0.036016,
     "end_time": "2023-08-29T09:05:49.116151",
     "exception": false,
     "start_time": "2023-08-29T09:05:49.080135",
     "status": "completed"
    },
    "tags": []
   },
   "outputs": [
    {
     "data": {
      "text/html": [
       "<div>\n",
       "<style scoped>\n",
       "    .dataframe tbody tr th:only-of-type {\n",
       "        vertical-align: middle;\n",
       "    }\n",
       "\n",
       "    .dataframe tbody tr th {\n",
       "        vertical-align: top;\n",
       "    }\n",
       "\n",
       "    .dataframe thead th {\n",
       "        text-align: right;\n",
       "    }\n",
       "</style>\n",
       "<table border=\"1\" class=\"dataframe\">\n",
       "  <thead>\n",
       "    <tr style=\"text-align: right;\">\n",
       "      <th></th>\n",
       "      <th>Rating ?/5</th>\n",
       "      <th>Number of Ratings</th>\n",
       "      <th>Price in INR</th>\n",
       "    </tr>\n",
       "  </thead>\n",
       "  <tbody>\n",
       "    <tr>\n",
       "      <th>0</th>\n",
       "      <td>4.2</td>\n",
       "      <td>33561</td>\n",
       "      <td>5649</td>\n",
       "    </tr>\n",
       "    <tr>\n",
       "      <th>1</th>\n",
       "      <td>4.2</td>\n",
       "      <td>77128</td>\n",
       "      <td>11999</td>\n",
       "    </tr>\n",
       "    <tr>\n",
       "      <th>2</th>\n",
       "      <td>4.3</td>\n",
       "      <td>15175</td>\n",
       "      <td>6999</td>\n",
       "    </tr>\n",
       "    <tr>\n",
       "      <th>3</th>\n",
       "      <td>4.2</td>\n",
       "      <td>22621</td>\n",
       "      <td>7749</td>\n",
       "    </tr>\n",
       "    <tr>\n",
       "      <th>4</th>\n",
       "      <td>4.3</td>\n",
       "      <td>15175</td>\n",
       "      <td>6999</td>\n",
       "    </tr>\n",
       "  </tbody>\n",
       "</table>\n",
       "</div>"
      ],
      "text/plain": [
       "   Rating ?/5  Number of Ratings  Price in INR\n",
       "0         4.2              33561          5649\n",
       "1         4.2              77128         11999\n",
       "2         4.3              15175          6999\n",
       "3         4.2              22621          7749\n",
       "4         4.3              15175          6999"
      ]
     },
     "execution_count": 16,
     "metadata": {},
     "output_type": "execute_result"
    }
   ],
   "source": [
    "num_var=mobile_data[['Rating ?/5','Number of Ratings','Price in INR']]\n",
    "num_var.head()"
   ]
  },
  {
   "cell_type": "code",
   "execution_count": 17,
   "id": "c0527ec2",
   "metadata": {
    "execution": {
     "iopub.execute_input": "2023-08-29T09:05:49.146586Z",
     "iopub.status.busy": "2023-08-29T09:05:49.146102Z",
     "iopub.status.idle": "2023-08-29T09:05:49.535413Z",
     "shell.execute_reply": "2023-08-29T09:05:49.533868Z"
    },
    "papermill": {
     "duration": 0.407087,
     "end_time": "2023-08-29T09:05:49.538237",
     "exception": false,
     "start_time": "2023-08-29T09:05:49.131150",
     "status": "completed"
    },
    "tags": []
   },
   "outputs": [
    {
     "data": {
      "text/plain": [
       "<Axes: xlabel='Rating ?/5'>"
      ]
     },
     "execution_count": 17,
     "metadata": {},
     "output_type": "execute_result"
    },
    {
     "data": {
      "image/png": "[encoded data removed]",
      "text/plain": [
       "<Figure size 640x480 with 1 Axes>"
      ]
     },
     "metadata": {},
     "output_type": "display_data"
    }
   ],
   "source": [
    "sns.rugplot(x='Rating ?/5', data=mobile_data)"
   ]
  },
  {
   "cell_type": "code",
   "execution_count": 18,
   "id": "9c2e7be9",
   "metadata": {
    "execution": {
     "iopub.execute_input": "2023-08-29T09:05:49.569885Z",
     "iopub.status.busy": "2023-08-29T09:05:49.569438Z",
     "iopub.status.idle": "2023-08-29T09:05:49.580624Z",
     "shell.execute_reply": "2023-08-29T09:05:49.579606Z"
    },
    "papermill": {
     "duration": 0.030632,
     "end_time": "2023-08-29T09:05:49.583408",
     "exception": false,
     "start_time": "2023-08-29T09:05:49.552776",
     "status": "completed"
    },
    "tags": []
   },
   "outputs": [
    {
     "data": {
      "text/plain": [
       "0         11\n",
       "50667      8\n",
       "62922      8\n",
       "715        7\n",
       "560071     7\n",
       "          ..\n",
       "567        1\n",
       "4034       1\n",
       "69762      1\n",
       "3241       1\n",
       "15701      1\n",
       "Name: Number of Ratings, Length: 533, dtype: int64"
      ]
     },
     "execution_count": 18,
     "metadata": {},
     "output_type": "execute_result"
    }
   ],
   "source": [
    "mobile_data['Number of Ratings'].value_counts()"
   ]
  },
  {
   "cell_type": "code",
   "execution_count": 19,
   "id": "7b45af5e",
   "metadata": {
    "execution": {
     "iopub.execute_input": "2023-08-29T09:05:49.617746Z",
     "iopub.status.busy": "2023-08-29T09:05:49.616941Z",
     "iopub.status.idle": "2023-08-29T09:05:49.634689Z",
     "shell.execute_reply": "2023-08-29T09:05:49.633466Z"
    },
    "papermill": {
     "duration": 0.038751,
     "end_time": "2023-08-29T09:05:49.637763",
     "exception": false,
     "start_time": "2023-08-29T09:05:49.599012",
     "status": "completed"
    },
    "tags": []
   },
   "outputs": [
    {
     "data": {
      "text/html": [
       "<div>\n",
       "<style scoped>\n",
       "    .dataframe tbody tr th:only-of-type {\n",
       "        vertical-align: middle;\n",
       "    }\n",
       "\n",
       "    .dataframe tbody tr th {\n",
       "        vertical-align: top;\n",
       "    }\n",
       "\n",
       "    .dataframe thead th {\n",
       "        text-align: right;\n",
       "    }\n",
       "</style>\n",
       "<table border=\"1\" class=\"dataframe\">\n",
       "  <thead>\n",
       "    <tr style=\"text-align: right;\">\n",
       "      <th></th>\n",
       "      <th>Phone Name</th>\n",
       "      <th>RAM</th>\n",
       "      <th>ROM/Storage</th>\n",
       "      <th>Back/Rare Camera</th>\n",
       "      <th>Front Camera</th>\n",
       "      <th>Battery</th>\n",
       "      <th>Processor</th>\n",
       "      <th>Date of Scraping</th>\n",
       "    </tr>\n",
       "  </thead>\n",
       "  <tbody>\n",
       "    <tr>\n",
       "      <th>0</th>\n",
       "      <td>POCO C50 (Royal Blue, 32 GB)</td>\n",
       "      <td>2 GB RAM</td>\n",
       "      <td>32 GB ROM</td>\n",
       "      <td>8MP Dual Camera</td>\n",
       "      <td>5MP Front Camera</td>\n",
       "      <td>5000 mAh</td>\n",
       "      <td>Mediatek Helio A22 Processor, Upto 2.0 GHz Pro...</td>\n",
       "      <td>2023-06-17</td>\n",
       "    </tr>\n",
       "    <tr>\n",
       "      <th>1</th>\n",
       "      <td>POCO M4 5G (Cool Blue, 64 GB)</td>\n",
       "      <td>4 GB RAM</td>\n",
       "      <td>64 GB ROM</td>\n",
       "      <td>50MP + 2MP</td>\n",
       "      <td>8MP Front Camera</td>\n",
       "      <td>5000 mAh</td>\n",
       "      <td>Mediatek Dimensity 700 Processor</td>\n",
       "      <td>2023-06-17</td>\n",
       "    </tr>\n",
       "    <tr>\n",
       "      <th>2</th>\n",
       "      <td>POCO C51 (Royal Blue, 64 GB)</td>\n",
       "      <td>4 GB RAM</td>\n",
       "      <td>64 GB ROM</td>\n",
       "      <td>8MP Dual Rear Camera</td>\n",
       "      <td>5MP Front Camera</td>\n",
       "      <td>5000 mAh</td>\n",
       "      <td>Helio G36 Processor</td>\n",
       "      <td>2023-06-17</td>\n",
       "    </tr>\n",
       "    <tr>\n",
       "      <th>3</th>\n",
       "      <td>POCO C55 (Cool Blue, 64 GB)</td>\n",
       "      <td>4 GB RAM</td>\n",
       "      <td>64 GB ROM</td>\n",
       "      <td>50MP Dual Rear Camera</td>\n",
       "      <td>5MP Front Camera</td>\n",
       "      <td>5000 mAh</td>\n",
       "      <td>Mediatek Helio G85 Processor</td>\n",
       "      <td>2023-06-17</td>\n",
       "    </tr>\n",
       "    <tr>\n",
       "      <th>4</th>\n",
       "      <td>POCO C51 (Power Black, 64 GB)</td>\n",
       "      <td>4 GB RAM</td>\n",
       "      <td>64 GB ROM</td>\n",
       "      <td>8MP Dual Rear Camera</td>\n",
       "      <td>5MP Front Camera</td>\n",
       "      <td>5000 mAh</td>\n",
       "      <td>Helio G36 Processor</td>\n",
       "      <td>2023-06-17</td>\n",
       "    </tr>\n",
       "  </tbody>\n",
       "</table>\n",
       "</div>"
      ],
      "text/plain": [
       "                      Phone Name       RAM ROM/Storage       Back/Rare Camera  \\\n",
       "0   POCO C50 (Royal Blue, 32 GB)  2 GB RAM   32 GB ROM        8MP Dual Camera   \n",
       "1  POCO M4 5G (Cool Blue, 64 GB)  4 GB RAM   64 GB ROM             50MP + 2MP   \n",
       "2   POCO C51 (Royal Blue, 64 GB)  4 GB RAM   64 GB ROM   8MP Dual Rear Camera   \n",
       "3    POCO C55 (Cool Blue, 64 GB)  4 GB RAM   64 GB ROM  50MP Dual Rear Camera   \n",
       "4  POCO C51 (Power Black, 64 GB)  4 GB RAM   64 GB ROM   8MP Dual Rear Camera   \n",
       "\n",
       "       Front Camera   Battery  \\\n",
       "0  5MP Front Camera  5000 mAh   \n",
       "1  8MP Front Camera  5000 mAh   \n",
       "2  5MP Front Camera  5000 mAh   \n",
       "3  5MP Front Camera  5000 mAh   \n",
       "4  5MP Front Camera  5000 mAh   \n",
       "\n",
       "                                           Processor Date of Scraping  \n",
       "0  Mediatek Helio A22 Processor, Upto 2.0 GHz Pro...       2023-06-17  \n",
       "1                   Mediatek Dimensity 700 Processor       2023-06-17  \n",
       "2                                Helio G36 Processor       2023-06-17  \n",
       "3                       Mediatek Helio G85 Processor       2023-06-17  \n",
       "4                                Helio G36 Processor       2023-06-17  "
      ]
     },
     "execution_count": 19,
     "metadata": {},
     "output_type": "execute_result"
    }
   ],
   "source": [
    "cat_var=mobile_data[['Phone Name','RAM','ROM/Storage','Back/Rare Camera'\n",
    "                    ,'Front Camera','Battery','Processor','Date of Scraping']]\n",
    "cat_var.head()"
   ]
  },
  {
   "cell_type": "code",
   "execution_count": 20,
   "id": "29d4d8d4",
   "metadata": {
    "execution": {
     "iopub.execute_input": "2023-08-29T09:05:49.669814Z",
     "iopub.status.busy": "2023-08-29T09:05:49.669360Z",
     "iopub.status.idle": "2023-08-29T09:05:50.050197Z",
     "shell.execute_reply": "2023-08-29T09:05:50.048867Z"
    },
    "papermill": {
     "duration": 0.400755,
     "end_time": "2023-08-29T09:05:50.053011",
     "exception": false,
     "start_time": "2023-08-29T09:05:49.652256",
     "status": "completed"
    },
    "tags": []
   },
   "outputs": [
    {
     "data": {
      "text/plain": [
       "<Axes: >"
      ]
     },
     "execution_count": 20,
     "metadata": {},
     "output_type": "execute_result"
    },
    {
     "data": {
      "image/png": "[encoded data removed]",
      "text/plain": [
       "<Figure size 640x480 with 1 Axes>"
      ]
     },
     "metadata": {},
     "output_type": "display_data"
    }
   ],
   "source": [
    "mobile_data['RAM'].value_counts().plot.bar()"
   ]
  },
  {
   "cell_type": "markdown",
   "id": "66eec817",
   "metadata": {
    "papermill": {
     "duration": 0.016312,
     "end_time": "2023-08-29T09:05:50.085173",
     "exception": false,
     "start_time": "2023-08-29T09:05:50.068861",
     "status": "completed"
    },
    "tags": []
   },
   "source": [
    "###### label encoding "
   ]
  },
  {
   "cell_type": "code",
   "execution_count": 21,
   "id": "ea72852f",
   "metadata": {
    "execution": {
     "iopub.execute_input": "2023-08-29T09:05:50.119838Z",
     "iopub.status.busy": "2023-08-29T09:05:50.118815Z",
     "iopub.status.idle": "2023-08-29T09:05:50.371389Z",
     "shell.execute_reply": "2023-08-29T09:05:50.369502Z"
    },
    "papermill": {
     "duration": 0.274163,
     "end_time": "2023-08-29T09:05:50.376091",
     "exception": false,
     "start_time": "2023-08-29T09:05:50.101928",
     "status": "completed"
    },
    "tags": []
   },
   "outputs": [
    {
     "data": {
      "text/plain": [
       "<Axes: ylabel='ROM/Storage'>"
      ]
     },
     "execution_count": 21,
     "metadata": {},
     "output_type": "execute_result"
    },
    {
     "data": {
      "image/png": "[encoded data removed]",
      "text/plain": [
       "<Figure size 640x480 with 1 Axes>"
      ]
     },
     "metadata": {},
     "output_type": "display_data"
    }
   ],
   "source": [
    "mobile_data['ROM/Storage'].value_counts().plot.pie()"
   ]
  },
  {
   "cell_type": "code",
   "execution_count": 22,
   "id": "a0982069",
   "metadata": {
    "execution": {
     "iopub.execute_input": "2023-08-29T09:05:50.427240Z",
     "iopub.status.busy": "2023-08-29T09:05:50.426342Z",
     "iopub.status.idle": "2023-08-29T09:05:50.446650Z",
     "shell.execute_reply": "2023-08-29T09:05:50.445673Z"
    },
    "papermill": {
     "duration": 0.040704,
     "end_time": "2023-08-29T09:05:50.449305",
     "exception": false,
     "start_time": "2023-08-29T09:05:50.408601",
     "status": "completed"
    },
    "tags": []
   },
   "outputs": [],
   "source": [
    "label_encoder = preprocessing.LabelEncoder()\n",
    "mobile_data['Phone Name']= label_encoder.fit_transform(mobile_data['Phone Name'])\n",
    "mobile_data['RAM']=label_encoder.fit_transform(mobile_data['RAM'])\n",
    "mobile_data['ROM/Storage']=label_encoder.fit_transform(mobile_data['ROM/Storage'])\n",
    "mobile_data['Back/Rare Camera']=label_encoder.fit_transform(mobile_data['Back/Rare Camera'])\n",
    "mobile_data['Front Camera']=label_encoder.fit_transform(mobile_data['Front Camera'])\n",
    "mobile_data['Battery']=label_encoder.fit_transform(mobile_data['Battery'])\n",
    "mobile_data['Processor']=label_encoder.fit_transform(mobile_data['Processor'])\n",
    "mobile_data['Date of Scraping']=label_encoder.fit_transform(mobile_data['Date of Scraping'])"
   ]
  },
  {
   "cell_type": "code",
   "execution_count": 23,
   "id": "ca5d0b1a",
   "metadata": {
    "execution": {
     "iopub.execute_input": "2023-08-29T09:05:50.484403Z",
     "iopub.status.busy": "2023-08-29T09:05:50.483513Z",
     "iopub.status.idle": "2023-08-29T09:05:50.508165Z",
     "shell.execute_reply": "2023-08-29T09:05:50.507036Z"
    },
    "papermill": {
     "duration": 0.045508,
     "end_time": "2023-08-29T09:05:50.510943",
     "exception": false,
     "start_time": "2023-08-29T09:05:50.465435",
     "status": "completed"
    },
    "tags": []
   },
   "outputs": [
    {
     "data": {
      "text/html": [
       "<div>\n",
       "<style scoped>\n",
       "    .dataframe tbody tr th:only-of-type {\n",
       "        vertical-align: middle;\n",
       "    }\n",
       "\n",
       "    .dataframe tbody tr th {\n",
       "        vertical-align: top;\n",
       "    }\n",
       "\n",
       "    .dataframe thead th {\n",
       "        text-align: right;\n",
       "    }\n",
       "</style>\n",
       "<table border=\"1\" class=\"dataframe\">\n",
       "  <thead>\n",
       "    <tr style=\"text-align: right;\">\n",
       "      <th></th>\n",
       "      <th>Phone Name</th>\n",
       "      <th>Rating ?/5</th>\n",
       "      <th>Number of Ratings</th>\n",
       "      <th>RAM</th>\n",
       "      <th>ROM/Storage</th>\n",
       "      <th>Back/Rare Camera</th>\n",
       "      <th>Front Camera</th>\n",
       "      <th>Battery</th>\n",
       "      <th>Processor</th>\n",
       "      <th>Price in INR</th>\n",
       "      <th>Date of Scraping</th>\n",
       "    </tr>\n",
       "  </thead>\n",
       "  <tbody>\n",
       "    <tr>\n",
       "      <th>Phone Name</th>\n",
       "      <td>1.000000</td>\n",
       "      <td>0.199221</td>\n",
       "      <td>0.014978</td>\n",
       "      <td>0.090683</td>\n",
       "      <td>-0.168096</td>\n",
       "      <td>0.100468</td>\n",
       "      <td>-0.032185</td>\n",
       "      <td>0.136347</td>\n",
       "      <td>0.041178</td>\n",
       "      <td>0.102682</td>\n",
       "      <td>NaN</td>\n",
       "    </tr>\n",
       "    <tr>\n",
       "      <th>Rating ?/5</th>\n",
       "      <td>0.199221</td>\n",
       "      <td>1.000000</td>\n",
       "      <td>0.130722</td>\n",
       "      <td>0.023098</td>\n",
       "      <td>0.021832</td>\n",
       "      <td>-0.037863</td>\n",
       "      <td>0.046263</td>\n",
       "      <td>0.069878</td>\n",
       "      <td>-0.016741</td>\n",
       "      <td>-0.028379</td>\n",
       "      <td>NaN</td>\n",
       "    </tr>\n",
       "    <tr>\n",
       "      <th>Number of Ratings</th>\n",
       "      <td>0.014978</td>\n",
       "      <td>0.130722</td>\n",
       "      <td>1.000000</td>\n",
       "      <td>-0.146807</td>\n",
       "      <td>0.198110</td>\n",
       "      <td>-0.144880</td>\n",
       "      <td>0.090804</td>\n",
       "      <td>-0.140052</td>\n",
       "      <td>0.026256</td>\n",
       "      <td>-0.208325</td>\n",
       "      <td>NaN</td>\n",
       "    </tr>\n",
       "    <tr>\n",
       "      <th>RAM</th>\n",
       "      <td>0.090683</td>\n",
       "      <td>0.023098</td>\n",
       "      <td>-0.146807</td>\n",
       "      <td>1.000000</td>\n",
       "      <td>-0.452715</td>\n",
       "      <td>0.078540</td>\n",
       "      <td>-0.355165</td>\n",
       "      <td>0.166633</td>\n",
       "      <td>0.051497</td>\n",
       "      <td>0.214468</td>\n",
       "      <td>NaN</td>\n",
       "    </tr>\n",
       "    <tr>\n",
       "      <th>ROM/Storage</th>\n",
       "      <td>-0.168096</td>\n",
       "      <td>0.021832</td>\n",
       "      <td>0.198110</td>\n",
       "      <td>-0.452715</td>\n",
       "      <td>1.000000</td>\n",
       "      <td>-0.156722</td>\n",
       "      <td>0.255119</td>\n",
       "      <td>-0.027372</td>\n",
       "      <td>0.031106</td>\n",
       "      <td>-0.279068</td>\n",
       "      <td>NaN</td>\n",
       "    </tr>\n",
       "    <tr>\n",
       "      <th>Back/Rare Camera</th>\n",
       "      <td>0.100468</td>\n",
       "      <td>-0.037863</td>\n",
       "      <td>-0.144880</td>\n",
       "      <td>0.078540</td>\n",
       "      <td>-0.156722</td>\n",
       "      <td>1.000000</td>\n",
       "      <td>-0.143775</td>\n",
       "      <td>0.125851</td>\n",
       "      <td>0.050568</td>\n",
       "      <td>0.025932</td>\n",
       "      <td>NaN</td>\n",
       "    </tr>\n",
       "    <tr>\n",
       "      <th>Front Camera</th>\n",
       "      <td>-0.032185</td>\n",
       "      <td>0.046263</td>\n",
       "      <td>0.090804</td>\n",
       "      <td>-0.355165</td>\n",
       "      <td>0.255119</td>\n",
       "      <td>-0.143775</td>\n",
       "      <td>1.000000</td>\n",
       "      <td>0.109941</td>\n",
       "      <td>-0.070613</td>\n",
       "      <td>-0.367879</td>\n",
       "      <td>NaN</td>\n",
       "    </tr>\n",
       "    <tr>\n",
       "      <th>Battery</th>\n",
       "      <td>0.136347</td>\n",
       "      <td>0.069878</td>\n",
       "      <td>-0.140052</td>\n",
       "      <td>0.166633</td>\n",
       "      <td>-0.027372</td>\n",
       "      <td>0.125851</td>\n",
       "      <td>0.109941</td>\n",
       "      <td>1.000000</td>\n",
       "      <td>0.066663</td>\n",
       "      <td>-0.144340</td>\n",
       "      <td>NaN</td>\n",
       "    </tr>\n",
       "    <tr>\n",
       "      <th>Processor</th>\n",
       "      <td>0.041178</td>\n",
       "      <td>-0.016741</td>\n",
       "      <td>0.026256</td>\n",
       "      <td>0.051497</td>\n",
       "      <td>0.031106</td>\n",
       "      <td>0.050568</td>\n",
       "      <td>-0.070613</td>\n",
       "      <td>0.066663</td>\n",
       "      <td>1.000000</td>\n",
       "      <td>0.020452</td>\n",
       "      <td>NaN</td>\n",
       "    </tr>\n",
       "    <tr>\n",
       "      <th>Price in INR</th>\n",
       "      <td>0.102682</td>\n",
       "      <td>-0.028379</td>\n",
       "      <td>-0.208325</td>\n",
       "      <td>0.214468</td>\n",
       "      <td>-0.279068</td>\n",
       "      <td>0.025932</td>\n",
       "      <td>-0.367879</td>\n",
       "      <td>-0.144340</td>\n",
       "      <td>0.020452</td>\n",
       "      <td>1.000000</td>\n",
       "      <td>NaN</td>\n",
       "    </tr>\n",
       "    <tr>\n",
       "      <th>Date of Scraping</th>\n",
       "      <td>NaN</td>\n",
       "      <td>NaN</td>\n",
       "      <td>NaN</td>\n",
       "      <td>NaN</td>\n",
       "      <td>NaN</td>\n",
       "      <td>NaN</td>\n",
       "      <td>NaN</td>\n",
       "      <td>NaN</td>\n",
       "      <td>NaN</td>\n",
       "      <td>NaN</td>\n",
       "      <td>NaN</td>\n",
       "    </tr>\n",
       "  </tbody>\n",
       "</table>\n",
       "</div>"
      ],
      "text/plain": [
       "                   Phone Name  Rating ?/5  Number of Ratings       RAM  \\\n",
       "Phone Name           1.000000    0.199221           0.014978  0.090683   \n",
       "Rating ?/5           0.199221    1.000000           0.130722  0.023098   \n",
       "Number of Ratings    0.014978    0.130722           1.000000 -0.146807   \n",
       "RAM                  0.090683    0.023098          -0.146807  1.000000   \n",
       "ROM/Storage         -0.168096    0.021832           0.198110 -0.452715   \n",
       "Back/Rare Camera     0.100468   -0.037863          -0.144880  0.078540   \n",
       "Front Camera        -0.032185    0.046263           0.090804 -0.355165   \n",
       "Battery              0.136347    0.069878          -0.140052  0.166633   \n",
       "Processor            0.041178   -0.016741           0.026256  0.051497   \n",
       "Price in INR         0.102682   -0.028379          -0.208325  0.214468   \n",
       "Date of Scraping          NaN         NaN                NaN       NaN   \n",
       "\n",
       "                   ROM/Storage  Back/Rare Camera  Front Camera   Battery  \\\n",
       "Phone Name           -0.168096          0.100468     -0.032185  0.136347   \n",
       "Rating ?/5            0.021832         -0.037863      0.046263  0.069878   \n",
       "Number of Ratings     0.198110         -0.144880      0.090804 -0.140052   \n",
       "RAM                  -0.452715          0.078540     -0.355165  0.166633   \n",
       "ROM/Storage           1.000000         -0.156722      0.255119 -0.027372   \n",
       "Back/Rare Camera     -0.156722          1.000000     -0.143775  0.125851   \n",
       "Front Camera          0.255119         -0.143775      1.000000  0.109941   \n",
       "Battery              -0.027372          0.125851      0.109941  1.000000   \n",
       "Processor             0.031106          0.050568     -0.070613  0.066663   \n",
       "Price in INR         -0.279068          0.025932     -0.367879 -0.144340   \n",
       "Date of Scraping           NaN               NaN           NaN       NaN   \n",
       "\n",
       "                   Processor  Price in INR  Date of Scraping  \n",
       "Phone Name          0.041178      0.102682               NaN  \n",
       "Rating ?/5         -0.016741     -0.028379               NaN  \n",
       "Number of Ratings   0.026256     -0.208325               NaN  \n",
       "RAM                 0.051497      0.214468               NaN  \n",
       "ROM/Storage         0.031106     -0.279068               NaN  \n",
       "Back/Rare Camera    0.050568      0.025932               NaN  \n",
       "Front Camera       -0.070613     -0.367879               NaN  \n",
       "Battery             0.066663     -0.144340               NaN  \n",
       "Processor           1.000000      0.020452               NaN  \n",
       "Price in INR        0.020452      1.000000               NaN  \n",
       "Date of Scraping         NaN           NaN               NaN  "
      ]
     },
     "execution_count": 23,
     "metadata": {},
     "output_type": "execute_result"
    }
   ],
   "source": [
    "mobile_data.corr()"
   ]
  },
  {
   "cell_type": "code",
   "execution_count": 24,
   "id": "851e468a",
   "metadata": {
    "execution": {
     "iopub.execute_input": "2023-08-29T09:05:50.546622Z",
     "iopub.status.busy": "2023-08-29T09:05:50.546185Z",
     "iopub.status.idle": "2023-08-29T09:05:50.551752Z",
     "shell.execute_reply": "2023-08-29T09:05:50.550449Z"
    },
    "papermill": {
     "duration": 0.026542,
     "end_time": "2023-08-29T09:05:50.554616",
     "exception": false,
     "start_time": "2023-08-29T09:05:50.528074",
     "status": "completed"
    },
    "tags": []
   },
   "outputs": [],
   "source": [
    "# splitting the datasets"
   ]
  },
  {
   "cell_type": "code",
   "execution_count": 25,
   "id": "7cfe02e6",
   "metadata": {
    "execution": {
     "iopub.execute_input": "2023-08-29T09:05:50.590181Z",
     "iopub.status.busy": "2023-08-29T09:05:50.589696Z",
     "iopub.status.idle": "2023-08-29T09:05:50.598186Z",
     "shell.execute_reply": "2023-08-29T09:05:50.596805Z"
    },
    "papermill": {
     "duration": 0.030568,
     "end_time": "2023-08-29T09:05:50.601507",
     "exception": false,
     "start_time": "2023-08-29T09:05:50.570939",
     "status": "completed"
    },
    "tags": []
   },
   "outputs": [],
   "source": [
    "x=mobile_data[['Phone Name','Rating ?/5','Number of Ratings','RAM','ROM/Storage','Back/Rare Camera','Front Camera','Battery','Processor','Date of Scraping']]\n",
    "y=mobile_data['Price in INR']"
   ]
  },
  {
   "cell_type": "code",
   "execution_count": 26,
   "id": "ca2fe9eb",
   "metadata": {
    "execution": {
     "iopub.execute_input": "2023-08-29T09:05:50.636921Z",
     "iopub.status.busy": "2023-08-29T09:05:50.636480Z",
     "iopub.status.idle": "2023-08-29T09:05:50.641781Z",
     "shell.execute_reply": "2023-08-29T09:05:50.640474Z"
    },
    "papermill": {
     "duration": 0.02639,
     "end_time": "2023-08-29T09:05:50.644632",
     "exception": false,
     "start_time": "2023-08-29T09:05:50.618242",
     "status": "completed"
    },
    "tags": []
   },
   "outputs": [],
   "source": [
    "# splitting the dataset into training and testing dataset"
   ]
  },
  {
   "cell_type": "code",
   "execution_count": 27,
   "id": "8cca816e",
   "metadata": {
    "execution": {
     "iopub.execute_input": "2023-08-29T09:05:50.680385Z",
     "iopub.status.busy": "2023-08-29T09:05:50.679735Z",
     "iopub.status.idle": "2023-08-29T09:05:50.690600Z",
     "shell.execute_reply": "2023-08-29T09:05:50.689195Z"
    },
    "papermill": {
     "duration": 0.031743,
     "end_time": "2023-08-29T09:05:50.693450",
     "exception": false,
     "start_time": "2023-08-29T09:05:50.661707",
     "status": "completed"
    },
    "tags": []
   },
   "outputs": [],
   "source": [
    "x_train, x_test, y_train, y_test = train_test_split(x, y, test_size=0.05, random_state=0)"
   ]
  },
  {
   "cell_type": "code",
   "execution_count": 28,
   "id": "2518d7ab",
   "metadata": {
    "execution": {
     "iopub.execute_input": "2023-08-29T09:05:50.730134Z",
     "iopub.status.busy": "2023-08-29T09:05:50.729671Z",
     "iopub.status.idle": "2023-08-29T09:05:50.734718Z",
     "shell.execute_reply": "2023-08-29T09:05:50.733710Z"
    },
    "papermill": {
     "duration": 0.026986,
     "end_time": "2023-08-29T09:05:50.737342",
     "exception": false,
     "start_time": "2023-08-29T09:05:50.710356",
     "status": "completed"
    },
    "tags": []
   },
   "outputs": [],
   "source": [
    "#Import LinearRegression from sklearn.linear_model\n",
    "\n",
    "from sklearn.linear_model import LinearRegression"
   ]
  },
  {
   "cell_type": "code",
   "execution_count": 29,
   "id": "d3febe64",
   "metadata": {
    "execution": {
     "iopub.execute_input": "2023-08-29T09:05:50.773707Z",
     "iopub.status.busy": "2023-08-29T09:05:50.773253Z",
     "iopub.status.idle": "2023-08-29T09:05:50.814674Z",
     "shell.execute_reply": "2023-08-29T09:05:50.813329Z"
    },
    "papermill": {
     "duration": 0.063212,
     "end_time": "2023-08-29T09:05:50.817316",
     "exception": false,
     "start_time": "2023-08-29T09:05:50.754104",
     "status": "completed"
    },
    "tags": []
   },
   "outputs": [
    {
     "data": {
      "text/html": [
       "<style>#sk-container-id-1 {color: black;background-color: white;}#sk-container-id-1 pre{padding: 0;}#sk-container-id-1 div.sk-toggleable {background-color: white;}#sk-container-id-1 label.sk-toggleable__label {cursor: pointer;display: block;width: 100%;margin-bottom: 0;padding: 0.3em;box-sizing: border-box;text-align: center;}#sk-container-id-1 label.sk-toggleable__label-arrow:before {content: \"▸\";float: left;margin-right: 0.25em;color: #696969;}#sk-container-id-1 label.sk-toggleable__label-arrow:hover:before {color: black;}#sk-container-id-1 div.sk-estimator:hover label.sk-toggleable__label-arrow:before {color: black;}#sk-container-id-1 div.sk-toggleable__content {max-height: 0;max-width: 0;overflow: hidden;text-align: left;background-color: #f0f8ff;}#sk-container-id-1 div.sk-toggleable__content pre {margin: 0.2em;color: black;border-radius: 0.25em;background-color: #f0f8ff;}#sk-container-id-1 input.sk-toggleable__control:checked~div.sk-toggleable__content {max-height: 200px;max-width: 100%;overflow: auto;}#sk-container-id-1 input.sk-toggleable__control:checked~label.sk-toggleable__label-arrow:before {content: \"▾\";}#sk-container-id-1 div.sk-estimator input.sk-toggleable__control:checked~label.sk-toggleable__label {background-color: #d4ebff;}#sk-container-id-1 div.sk-label input.sk-toggleable__control:checked~label.sk-toggleable__label {background-color: #d4ebff;}#sk-container-id-1 input.sk-hidden--visually {border: 0;clip: rect(1px 1px 1px 1px);clip: rect(1px, 1px, 1px, 1px);height: 1px;margin: -1px;overflow: hidden;padding: 0;position: absolute;width: 1px;}#sk-container-id-1 div.sk-estimator {font-family: monospace;background-color: #f0f8ff;border: 1px dotted black;border-radius: 0.25em;box-sizing: border-box;margin-bottom: 0.5em;}#sk-container-id-1 div.sk-estimator:hover {background-color: #d4ebff;}#sk-container-id-1 div.sk-parallel-item::after {content: \"\";width: 100%;border-bottom: 1px solid gray;flex-grow: 1;}#sk-container-id-1 div.sk-label:hover label.sk-toggleable__label {background-color: #d4ebff;}#sk-container-id-1 div.sk-serial::before {content: \"\";position: absolute;border-left: 1px solid gray;box-sizing: border-box;top: 0;bottom: 0;left: 50%;z-index: 0;}#sk-container-id-1 div.sk-serial {display: flex;flex-direction: column;align-items: center;background-color: white;padding-right: 0.2em;padding-left: 0.2em;position: relative;}#sk-container-id-1 div.sk-item {position: relative;z-index: 1;}#sk-container-id-1 div.sk-parallel {display: flex;align-items: stretch;justify-content: center;background-color: white;position: relative;}#sk-container-id-1 div.sk-item::before, #sk-container-id-1 div.sk-parallel-item::before {content: \"\";position: absolute;border-left: 1px solid gray;box-sizing: border-box;top: 0;bottom: 0;left: 50%;z-index: -1;}#sk-container-id-1 div.sk-parallel-item {display: flex;flex-direction: column;z-index: 1;position: relative;background-color: white;}#sk-container-id-1 div.sk-parallel-item:first-child::after {align-self: flex-end;width: 50%;}#sk-container-id-1 div.sk-parallel-item:last-child::after {align-self: flex-start;width: 50%;}#sk-container-id-1 div.sk-parallel-item:only-child::after {width: 0;}#sk-container-id-1 div.sk-dashed-wrapped {border: 1px dashed gray;margin: 0 0.4em 0.5em 0.4em;box-sizing: border-box;padding-bottom: 0.4em;background-color: white;}#sk-container-id-1 div.sk-label label {font-family: monospace;font-weight: bold;display: inline-block;line-height: 1.2em;}#sk-container-id-1 div.sk-label-container {text-align: center;}#sk-container-id-1 div.sk-container {/* jupyter's `normalize.less` sets `[hidden] { display: none; }` but bootstrap.min.css set `[hidden] { display: none !important; }` so we also need the `!important` here to be able to override the default hidden behavior on the sphinx rendered scikit-learn.org. See: https://github.com/scikit-learn/scikit-learn/issues/21755 */display: inline-block !important;position: relative;}#sk-container-id-1 div.sk-text-repr-fallback {display: none;}</style><div id=\"sk-container-id-1\" class=\"sk-top-container\"><div class=\"sk-text-repr-fallback\"><pre>LinearRegression()</pre><b>In a Jupyter environment, please rerun this cell to show the HTML representation or trust the notebook. <br />On GitHub, the HTML representation is unable to render, please try loading this page with nbviewer.org.</b></div><div class=\"sk-container\" hidden><div class=\"sk-item\"><div class=\"sk-estimator sk-toggleable\"><input class=\"sk-toggleable__control sk-hidden--visually\" id=\"sk-estimator-id-1\" type=\"checkbox\" checked><label for=\"sk-estimator-id-1\" class=\"sk-toggleable__label sk-toggleable__label-arrow\">LinearRegression</label><div class=\"sk-toggleable__content\"><pre>LinearRegression()</pre></div></div></div></div></div>"
      ],
      "text/plain": [
       "LinearRegression()"
      ]
     },
     "execution_count": 29,
     "metadata": {},
     "output_type": "execute_result"
    }
   ],
   "source": [
    "# create an instance of a linear regression\n",
    "\n",
    "lm=LinearRegression()\n",
    "# Train/fit on the training data \n",
    "\n",
    "lm.fit(x_train,y_train)"
   ]
  },
  {
   "cell_type": "code",
   "execution_count": 30,
   "id": "997d574b",
   "metadata": {
    "execution": {
     "iopub.execute_input": "2023-08-29T09:05:50.857590Z",
     "iopub.status.busy": "2023-08-29T09:05:50.856657Z",
     "iopub.status.idle": "2023-08-29T09:05:50.866433Z",
     "shell.execute_reply": "2023-08-29T09:05:50.865153Z"
    },
    "papermill": {
     "duration": 0.033831,
     "end_time": "2023-08-29T09:05:50.869775",
     "exception": false,
     "start_time": "2023-08-29T09:05:50.835944",
     "status": "completed"
    },
    "tags": []
   },
   "outputs": [
    {
     "data": {
      "text/plain": [
       "array([ 4.38474567e+00,  7.76175545e+01, -2.41081027e-02,  2.31473928e+02,\n",
       "       -8.92446836e+02, -2.04233389e+01, -5.17418401e+02, -1.41067528e+02,\n",
       "        3.91036555e+00,  0.00000000e+00])"
      ]
     },
     "execution_count": 30,
     "metadata": {},
     "output_type": "execute_result"
    }
   ],
   "source": [
    "# print out the coefficients of the model\n",
    "\n",
    "lm.coef_"
   ]
  },
  {
   "cell_type": "code",
   "execution_count": 31,
   "id": "a2e40377",
   "metadata": {
    "execution": {
     "iopub.execute_input": "2023-08-29T09:05:50.907438Z",
     "iopub.status.busy": "2023-08-29T09:05:50.906495Z",
     "iopub.status.idle": "2023-08-29T09:05:50.914712Z",
     "shell.execute_reply": "2023-08-29T09:05:50.913598Z"
    },
    "papermill": {
     "duration": 0.030133,
     "end_time": "2023-08-29T09:05:50.917815",
     "exception": false,
     "start_time": "2023-08-29T09:05:50.887682",
     "status": "completed"
    },
    "tags": []
   },
   "outputs": [],
   "source": [
    "# use lm.predict() to predict off the x_test set of the data \n",
    "\n",
    "predictions=lm.predict(x_test)"
   ]
  },
  {
   "cell_type": "code",
   "execution_count": 32,
   "id": "e2306874",
   "metadata": {
    "execution": {
     "iopub.execute_input": "2023-08-29T09:05:50.956865Z",
     "iopub.status.busy": "2023-08-29T09:05:50.956016Z",
     "iopub.status.idle": "2023-08-29T09:05:50.961955Z",
     "shell.execute_reply": "2023-08-29T09:05:50.960691Z"
    },
    "papermill": {
     "duration": 0.028396,
     "end_time": "2023-08-29T09:05:50.964769",
     "exception": false,
     "start_time": "2023-08-29T09:05:50.936373",
     "status": "completed"
    },
    "tags": []
   },
   "outputs": [],
   "source": [
    "from sklearn import metrics"
   ]
  },
  {
   "cell_type": "code",
   "execution_count": 33,
   "id": "cb1d222f",
   "metadata": {
    "execution": {
     "iopub.execute_input": "2023-08-29T09:05:51.001638Z",
     "iopub.status.busy": "2023-08-29T09:05:51.000563Z",
     "iopub.status.idle": "2023-08-29T09:05:51.011837Z",
     "shell.execute_reply": "2023-08-29T09:05:51.009823Z"
    },
    "papermill": {
     "duration": 0.033057,
     "end_time": "2023-08-29T09:05:51.015072",
     "exception": false,
     "start_time": "2023-08-29T09:05:50.982015",
     "status": "completed"
    },
    "tags": []
   },
   "outputs": [
    {
     "name": "stdout",
     "output_type": "stream",
     "text": [
      "MAE :   5184.853211045551\n",
      "MSE :   41640080.35687229\n",
      "RMAE :   6452.912548367\n"
     ]
    }
   ],
   "source": [
    "print('MAE :',\" \", metrics.mean_absolute_error(y_test,predictions))\n",
    "print('MSE :',\" \", metrics.mean_squared_error(y_test,predictions))\n",
    "print('RMAE :',\" \", np.sqrt(metrics.mean_squared_error(y_test,predictions)))"
   ]
  },
  {
   "cell_type": "code",
   "execution_count": null,
   "id": "71af81d4",
   "metadata": {
    "papermill": {
     "duration": 0.016459,
     "end_time": "2023-08-29T09:05:51.048927",
     "exception": false,
     "start_time": "2023-08-29T09:05:51.032468",
     "status": "completed"
    },
    "tags": []
   },
   "outputs": [],
   "source": []
  }
 ],
 "metadata": {
  "kernelspec": {
   "display_name": "Python 3",
   "language": "python",
   "name": "python3"
  },
  "language_info": {
   "codemirror_mode": {
    "name": "ipython",
    "version": 3
   },
   "file_extension": ".py",
   "mimetype": "text/x-python",
   "name": "python",
   "nbconvert_exporter": "python",
   "pygments_lexer": "ipython3",
   "version": "3.10.12"
  },
  "papermill": {
   "default_parameters": {},
   "duration": 20.062451,
   "end_time": "2023-08-29T09:05:52.190306",
   "environment_variables": {},
   "exception": null,
   "input_path": "__notebook__.ipynb",
   "output_path": "__notebook__.ipynb",
   "parameters": {},
   "start_time": "2023-08-29T09:05:32.127855",
   "version": "2.4.0"
  }
 },
 "nbformat": 4,
 "nbformat_minor": 5
}
